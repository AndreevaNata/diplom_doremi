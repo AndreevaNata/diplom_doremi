{
 "cells": [
  {
   "cell_type": "code",
   "execution_count": 19,
   "metadata": {},
   "outputs": [],
   "source": [
    "from datasets import load_dataset, load_from_disk\n",
    "import numpy as np\n",
    "from transformers import AutoTokenizer\n",
    "import torch\n",
    "domains = ['dzen', 'lenta', 'lj', 'ok', 'reddit', 'twitter', 'vk']\n",
    "import os\n",
    "data_dir = \"/root/diplom_doremi/doremi/data_in_datasets\"\n",
    "data_preprocessed_dir = \"/root/diplom_doremi/doremi/data_preprocessed\"\n",
    "labels = ['neutral', 'joy', 'anger', 'sadness', 'surprise', 'fear']\n",
    "labels_ids = [3, 2, 0, 4, 5, 1]\n"
   ]
  },
  {
   "cell_type": "code",
   "execution_count": 20,
   "metadata": {},
   "outputs": [],
   "source": [
    "tokenizer = AutoTokenizer.from_pretrained(\"bert-base-uncased\")"
   ]
  },
  {
   "cell_type": "code",
   "execution_count": 21,
   "metadata": {},
   "outputs": [
    {
     "data": {
      "text/plain": [
       "DatasetDict({\n",
       "    train: Dataset({\n",
       "        features: ['text', 'target'],\n",
       "        num_rows: 16978\n",
       "    })\n",
       "    test: Dataset({\n",
       "        features: ['text', 'target'],\n",
       "        num_rows: 4245\n",
       "    })\n",
       "})"
      ]
     },
     "execution_count": 21,
     "metadata": {},
     "output_type": "execute_result"
    }
   ],
   "source": [
    "dataset = load_from_disk(f\"{data_dir}/{domains[0]}\")\n",
    "dataset"
   ]
  },
  {
   "cell_type": "code",
   "execution_count": 22,
   "metadata": {},
   "outputs": [],
   "source": [
    "def preprocess_data(data, **kwargs):\n",
    "    # take a batch of texts\n",
    "    text = data[\"text\"]\n",
    "    # encode them\n",
    "    encoding = tokenizer(text, return_attention_mask=True, max_length=128, padding='max_length', truncation=True, return_tensors='pt')\n",
    "    encoding['domain_ids'] = np.full((len(text), 1), kwargs['domain'])\n",
    "    return encoding"
   ]
  },
  {
   "cell_type": "code",
   "execution_count": 16,
   "metadata": {},
   "outputs": [
    {
     "name": "stderr",
     "output_type": "stream",
     "text": [
      "Map:   0%|          | 0/16978 [00:00<?, ? examples/s]"
     ]
    },
    {
     "name": "stderr",
     "output_type": "stream",
     "text": [
      "Map: 100%|██████████| 16978/16978 [00:14<00:00, 1174.45 examples/s]\n"
     ]
    }
   ],
   "source": [
    "# encoded_dataset = dataset['train'].map(preprocess_data, batched=True, remove_columns=dataset['train'].column_names, fn_kwargs={'train': True})\n",
    "encoded_dataset = dataset['train'].map(preprocess_data, batched=True, remove_columns=dataset['train'].column_names, fn_kwargs={'domain': 7})\n"
   ]
  },
  {
   "cell_type": "code",
   "execution_count": 17,
   "metadata": {},
   "outputs": [
    {
     "data": {
      "text/plain": [
       "Dataset({\n",
       "    features: ['input_ids', 'token_type_ids', 'attention_mask', 'domain_ids'],\n",
       "    num_rows: 16978\n",
       "})"
      ]
     },
     "execution_count": 17,
     "metadata": {},
     "output_type": "execute_result"
    }
   ],
   "source": [
    "encoded_dataset"
   ]
  },
  {
   "cell_type": "code",
   "execution_count": 25,
   "metadata": {},
   "outputs": [
    {
     "name": "stderr",
     "output_type": "stream",
     "text": [
      "Map:   0%|          | 0/16978 [00:00<?, ? examples/s]"
     ]
    },
    {
     "name": "stderr",
     "output_type": "stream",
     "text": [
      "Map: 100%|██████████| 16978/16978 [00:02<00:00, 6328.09 examples/s]\n",
      "Saving the dataset (1/1 shards): 100%|██████████| 16978/16978 [00:00<00:00, 581788.34 examples/s]\n",
      "Saving the dataset (1/1 shards): 100%|██████████| 4245/4245 [00:00<00:00, 412320.42 examples/s]\n",
      "Saving the dataset (1/1 shards): 100%|██████████| 2249/2249 [00:00<00:00, 269467.80 examples/s]\n",
      "Saving the dataset (1/1 shards): 100%|██████████| 563/563 [00:00<00:00, 115641.19 examples/s]\n",
      "Saving the dataset (1/1 shards): 100%|██████████| 2428/2428 [00:00<00:00, 309819.60 examples/s]\n",
      "Saving the dataset (1/1 shards): 100%|██████████| 607/607 [00:00<00:00, 114951.35 examples/s]\n",
      "Saving the dataset (1/1 shards): 100%|██████████| 20173/20173 [00:00<00:00, 579770.42 examples/s]\n",
      "Saving the dataset (1/1 shards): 100%|██████████| 5044/5044 [00:00<00:00, 416835.51 examples/s]\n",
      "Saving the dataset (1/1 shards): 100%|██████████| 168980/168980 [00:00<00:00, 307624.18 examples/s]\n",
      "Saving the dataset (1/1 shards): 100%|██████████| 42245/42245 [00:00<00:00, 654461.94 examples/s]\n",
      "Saving the dataset (1/1 shards): 100%|██████████| 2716/2716 [00:00<00:00, 357208.29 examples/s]\n",
      "Saving the dataset (1/1 shards): 100%|██████████| 679/679 [00:00<00:00, 133423.87 examples/s]\n",
      "Saving the dataset (1/1 shards): 100%|██████████| 14620/14620 [00:00<00:00, 633046.94 examples/s]\n",
      "Saving the dataset (1/1 shards): 100%|██████████| 3656/3656 [00:00<00:00, 382127.03 examples/s]\n"
     ]
    }
   ],
   "source": [
    "for domain_id, domain in enumerate(domains):\n",
    "    dataset = load_from_disk(f\"{data_dir}/{domain}\")\n",
    "    for x in ['train', 'test']:\n",
    "        dataset[x] = dataset[x].map(preprocess_data, batched=True, remove_columns=['text', 'target'], fn_kwargs={'domain': domain_id})\n",
    "        dataset[x] = dataset[x].remove_columns('token_type_ids')\n",
    "    # os.makedirs(f\"{data_preprocessed_dir}/{domain}/\")\n",
    "    dataset.save_to_disk(f\"{data_preprocessed_dir}/{domain}\")\n",
    "    "
   ]
  },
  {
   "cell_type": "code",
   "execution_count": 26,
   "metadata": {},
   "outputs": [
    {
     "data": {
      "text/plain": [
       "DatasetDict({\n",
       "    train: Dataset({\n",
       "        features: ['input_ids', 'attention_mask', 'domain_ids'],\n",
       "        num_rows: 2249\n",
       "    })\n",
       "    test: Dataset({\n",
       "        features: ['input_ids', 'attention_mask', 'domain_ids'],\n",
       "        num_rows: 563\n",
       "    })\n",
       "})"
      ]
     },
     "execution_count": 26,
     "metadata": {},
     "output_type": "execute_result"
    }
   ],
   "source": [
    "test = load_from_disk(f\"{data_preprocessed_dir}/{domains[1]}\")\n",
    "test"
   ]
  },
  {
   "cell_type": "code",
   "execution_count": null,
   "metadata": {},
   "outputs": [],
   "source": []
  }
 ],
 "metadata": {
  "kernelspec": {
   "display_name": "Python 3",
   "language": "python",
   "name": "python3"
  },
  "language_info": {
   "codemirror_mode": {
    "name": "ipython",
    "version": 3
   },
   "file_extension": ".py",
   "mimetype": "text/x-python",
   "name": "python",
   "nbconvert_exporter": "python",
   "pygments_lexer": "ipython3",
   "version": "3.10.12"
  }
 },
 "nbformat": 4,
 "nbformat_minor": 2
}
